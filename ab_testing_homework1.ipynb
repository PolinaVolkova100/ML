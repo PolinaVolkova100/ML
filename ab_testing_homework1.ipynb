{
 "cells": [
  {
   "cell_type": "markdown",
   "metadata": {
    "id": "Kh9ItZS4K61g"
   },
   "source": [
    "## A/B тесты\n",
    "\n",
    "### Что такое A/B тестирование, зачем и для кого это нужно?\n",
    "\n",
    "У приведенных выше подходов для расчета различных статистик по группам есть очень важное бизнесовое применение. Это A/B-тестирование, позовляющее на основании выделения целевой и контрольной групп, выявлять статистически значимые отличия в поведении этих групп и на основании этих отличий принимать решения об изменении в бизнесе. A/B-тестирование — это неотъемлемая часть процесса работы над продуктом. Это эксперимент, который позволяет сравнить две версии чего-либо, чтобы проверить гипотезы и определить, какая версия лучше. Какая цена лучше, какой дизайн более привлекательный, какая навигация лучше, какой офер более интересен абоненту? Но это не всегда история про успешные тестирования и постоянный рост. В первую очередь надо думать, как не сделать проект хуже.\n",
    "\n",
    "Кому нужно A/B-тестирование? - всем, кто хочет улучшать свой продукт, делать его удобнее и приятнее для целевой аудитории. Например,\n",
    "- Продакт-менеджеры могут тестировать изменения ценовых моделей, направленные на повышение доходов, или оптимизацию части воронки продаж для увеличения конверсии.\n",
    "- Маркетологи могут тестировать изображения, призывы к действию (call-to-action) или практически любые другие элементы маркетинговой кампании или рекламы с точки зрения улучшения метрик.\n",
    "- Продуктовые дизайнеры могут тестировать дизайнерские решения или использовать результаты тестирования для того, чтобы перед внедрением определить, будет ли удобно пользоваться новой функцией.\n",
    "\n",
    "### Основные шаги A/B тестирования:\n",
    "1. определить цель\n",
    "2. выбрать метрику:\n",
    "    - конверсия,\n",
    "    - экономические метрики,\n",
    "    - поведенческие факторы,\n",
    "    - ...\n",
    "3. выдвинуть гипотезу\n",
    "4. настроить эксперимент\n",
    "5. запустить эксперимент\n",
    "6. проанализировать результаты\n",
    "\n",
    "### Как проводить A/B тесты?\n",
    "\n",
    "Нужно определить две гипотезы, которые помогут понять, является ли наблюдаемая разница между версией A (изначальной) и версией B (новой, которую вы хотите проверить) случайностью или результатом изменений, которые вы произвели.\n",
    "\n",
    "**Нулевая гипотеза** предполагает, что результаты, `А` и `В` на самом деле не отличаются и что наблюдаемые различия случайны. Мы надеемся опровергнуть эту гипотезу.\n",
    "**Альтернативная гипотеза** — это гипотеза о том, что `B` отличается от `A`, и вы хотите сделать вывод об её истинности.\n",
    "Можно проводить односторонний или двусторонний тест. Односторонний тест позволяет обнаружить изменение в одном направлении, в то время как двусторонний тест позволяет обнаружить изменение по двум направлениям (как положительное, так и отрицательное).  \n",
    "\n",
    "Для того, чтобы тест выдавал корректные результаты:\n",
    "- Создайте новую версию (B), отражающую изменения, которые вы хотите протестировать.\n",
    "- Определите контрольную и экспериментальную группы. Каких пользователей вы хотите протестировать: всех пользователей на всех платформах или только пользователей из одной страны? Определите группу испытуемых, отобрав их по типам пользователей, платформе, географическим показателям и т. п. Затем определите, какой процент исследуемой группы составляет контрольная группа (группа, видящая версию A), а какой процент — экспериментальная группа (группа, видящая версию B).\n",
    "- Убедитесь, что пользователи будут видеть версии A и B в случайном порядке. Это значит, у каждого пользователя будет равный шанс получить ту или иную версию.\n",
    "- Определите уровень статистической значимости ($\\alpha$). Это уровень риска, который вы принимаете при ошибках первого рода (отклонение нулевой гипотезы, если она верна), обычно $\\alpha = 0.05$. Это означает, что в $5\\%$ случаев вы будете обнаруживать разницу между A и B, которая на самом деле обусловлена случайностью. Чем ниже выбранный вами уровень значимости, тем ниже риск того, что вы обнаружите разницу, вызванную случайностью.\n",
    "- Определите минимальный размер выборки. Наличие достаточно большого размера выборки важно для обеспечения статистически значимых результатов.\n",
    "- Определите временные рамки. Возьмите общий размер выборки, необходимый вам для тестирования каждой версии, и разделите его на ваш ежедневный трафик, так вы получите количество дней, необходимое для проведения теста.\n",
    "\n",
    "Сколько должен длиться эксперимент? Сколько пользователей должно быть в тестовой выборке?\n",
    "\n",
    "Для начала нужно определить следующее:\n",
    "- минимальный размер эффекта, который мы хотим померить (насколько большие отклонения от метрики, которая, мы предполагаем, сохраниться по умолчанию, мы хотим \"замечать\")\n",
    "- допустимые вероятности ошибок первого и второго рода (ошибка первого рода — ситуация, когда отвергнута верная нулевая гипотеза и ошибка второго рода — ситуация, когда принята неверная нулевая гипотеза); стоимости этих ошибок могут существенно отличаться, и в зависимости от этого нужно выбирать пороги.\n",
    "    \n",
    "С помощью калькулятора мощности выбранного статистического критерия можно будет расчитать размеры выборки (калькуляторы [здесь](https://www.optimizely.com/sample-size-calculator/?conversion=3&effect=20&significance=95) и [здесь](https://www.abtasty.com/sample-size-calculator/)).\n",
    "\n",
    "[Калькулятор достоверности A/B тестирования](https://yandex.ru/adv/statvalue).\n",
    "\n",
    "Рассмотрим аналитику A/B теста на примере.\n",
    "***"
   ]
  },
  {
   "cell_type": "markdown",
   "metadata": {
    "id": "IvjeSLsuK61g"
   },
   "source": [
    "# Пример оценки A/B теста\n",
    "\n",
    "Рассмотрим процесс анализа A/B-теста: от формулирования гипотезы и ее проверки до интерпретации результатов. Будем использовать <a href='https://www.kaggle.com/zhangluyuan/ab-testing?select=ab_data.csv'> набор данных от Kaggle </a>, который содержит результаты A/B-тестирования двух разных дизайнов страницы веб-сайта (old_page и new_page).\n",
    "\n",
    "1. [Разработка эксперимента](#1.-Разработка-эксперимента)\n",
    "2. [Предобработка данных](#2.-Предобработка-данных)\n",
    "3. [Визуализация результатов](#3.-Визуализация-результатов)\n",
    "4. [Проверка гипотезы](#4.-Проверка-гипотезы)\n",
    "5. [Выводы](#5.-Выводы)\n",
    "\n",
    "Вот потенциальный **сценарий** для нашего исследования:\n",
    "\n",
    "> Представим, что вы работаете в группе разработчиков **e-commerce компании**. Дизайнер UX поработал над новой версией страницы продукта, надеясь, что это приведет к более высокому коэффициенту конверсии. Менеджер по продукту сказал вам, что **текущий коэффициент конверсии** составляет в среднем **13%** в течение года, и что команда будет довольна **увеличением на 2%**, что означает что новый дизайн будет считаться успешным, если он поднимет коэффициент конверсии до 15%.\n",
    "\n",
    "Перед развертыванием изменения команде было бы удобнее протестировать его на небольшом количестве пользователей, чтобы увидеть, как оно работает, поэтому вы предлагаете выполнить **A/B-тест** на подмножестве пользователей вашей пользовательской базы."
   ]
  },
  {
   "cell_type": "markdown",
   "metadata": {
    "id": "FZgtmoJvK61g"
   },
   "source": [
    "***\n",
    "## 1. Разработка эксперимента"
   ]
  },
  {
   "cell_type": "markdown",
   "metadata": {
    "id": "Blkw6nQiK61g"
   },
   "source": [
    "### Формулирование гипотезы\n",
    "\n",
    "Прежде всего, мы хотим убедиться, что сформулировали гипотезу в начале нашего проекта. Это обеспечит правильность и строгость нашей интерпретации результатов.\n",
    "\n",
    "Поскольку мы не знаем, будет ли новый дизайн работать лучше или хуже (или будет таким же?), чем наш текущий дизайн, мы выберем <a href=\"https://en.wikipedia.org/wiki/One-_and_two-tailed_tests\">**двусторонний тест** </a>:\n",
    "\n",
    "$$ H_0: p = p_0 $$\n",
    "$$ H_a: p \\ne p_0 $$\n",
    "\n",
    "где $p$ и $p_0$ обозначают коэффициент конверсии нового и старого дизайна соответственно. Мы также установим **уровень доверия $95\\%$**:\n",
    "\n",
    "$$ \\alpha = 0,05 $$\n",
    "\n",
    "Значение $ \\alpha $ - это установленный нами порог: «Если вероятность получения результата как экстремального или большего ($p $ -значение) ниже, чем $ \\alpha $, то мы отклоняем нулевую гипотезу». Поскольку $ \\alpha = 0,05 $ (что указывает на вероятность $5\\%$), наша уверенность ($1-\\alpha $) составляет $95\\%$.\n",
    "\n",
    "Какой бы коэффициент конверсии мы ни наблюдали для нашего нового дизайна в нашем тесте, мы хотим быть уверены на $95\\%$, что он статистически отличается от коэффициента конверсии нашего старого дизайна, прежде чем мы решим отвергнуть нулевую гипотезу $ H_0 $."
   ]
  },
  {
   "cell_type": "markdown",
   "metadata": {
    "id": "GzwMM6oUK61g"
   },
   "source": [
    "### Выбор переменных\n",
    "\n",
    "Для нашего теста нам понадобятся **две группы**:\n",
    "* `Контрольная` группа  - им будет показан старый дизайн\n",
    "* `Целевая` группа - им будет показан новый дизайн.\n",
    "\n",
    "Это будет наша *независимая переменная*. Причина, по которой у нас есть две группы, хотя мы знаем базовый коэффициент конверсии, заключается в том, что мы хотим контролировать другие переменные, которые могут повлиять на наши результаты, такие как сезонность: имея `контрольную` группу, мы можем напрямую сравнивать их результаты с `целевой` группой, потому что единственное систематическое различие между группами - это дизайн страницы продукта, и поэтому мы можем связать любые различия в результатах с дизайном.\n",
    "\n",
    "В качестве *зависимой переменной* (т.е. того, что мы пытаемся измерить), мы будем отслеживать `коэффициент конверсии`. Мы можем закодировать это бинарной переменной с помощью каждой пользовательской сессии:\n",
    "* `0` - пользователь не покупал товар во время этой пользовательской сессии.\n",
    "* `1` - пользователь купил продукт во время этой пользовательской сессии.\n",
    "\n",
    "Таким образом, мы можем легко вычислить среднее значение для каждой группы, чтобы получить коэффициент конверсии каждого дизайна."
   ]
  },
  {
   "cell_type": "markdown",
   "metadata": {
    "id": "O7d0-cjiK61h"
   },
   "source": [
    "### Выбор размера выборки\n",
    "\n",
    "Важно отметить, что, т.к. мы не будем тестировать всю базу пользователей, полученные нами коэффициенты конверсии неизбежно будут лишь *оценками* истинных коэффициентов.\n",
    "\n",
    "Количество людей (или пользовательских сеансов), которых мы решаем охватить в каждой группе, повлияет на точность наших расчетных коэффициентов конверсии: **чем больше размер выборки**, тем точнее наши оценки (т.е. тем меньше доверительные интервалы), **тем выше шанс обнаружить разницу** в двух группах, если они есть.\n",
    "\n",
    "С другой стороны, чем больше становится наша выборка, тем дороже становится наше исследование.\n",
    "\n",
    "*Сколько человек должно быть в каждой группе?*\n",
    "\n",
    "Размер необходимой нам выборки оценивается с помощью *анализа мощности*, и это зависит от нескольких факторов:\n",
    "* **Мощность теста** ($ 1 - \\beta $) - представляет собой вероятность обнаружения статистической разницы между группами в нашем тесте, когда разница действительно присутствует. Обычно это значение устанавливается на $0,8$.\n",
    "* **Альфа-значение** ($ \\alpha $) - критическое значение, которое мы ранее установили равным $0,05$.\n",
    "* **Размер эффекта** - насколько большой, по нашему мнению, будет разница между коэффициентами конверсии.\n",
    "\n",
    "Поскольку наша команда была бы довольна разницей в $2\\%$, мы можем использовать $13\\%$ и $15\\%$ для расчета ожидаемого эффекта."
   ]
  },
  {
   "cell_type": "code",
   "execution_count": 4,
   "metadata": {
    "executionInfo": {
     "elapsed": 251,
     "status": "ok",
     "timestamp": 1698092189926,
     "user": {
      "displayName": "Дмитрий Перец",
      "userId": "01071617569948781035"
     },
     "user_tz": -180
    },
    "id": "aeysYBbqK61h"
   },
   "outputs": [],
   "source": [
    "# Импорт необходимых библиотек\n",
    "import numpy as np\n",
    "import pandas as pd\n",
    "import scipy.stats as stats\n",
    "import statsmodels.stats.api as sms\n",
    "import matplotlib as mpl\n",
    "import matplotlib.pyplot as plt\n",
    "import seaborn as sns\n",
    "from math import ceil\n",
    "from statsmodels.stats.proportion import proportions_ztest, proportion_confint\n",
    "\n",
    "%matplotlib inline"
   ]
  },
  {
   "cell_type": "code",
   "execution_count": 5,
   "metadata": {},
   "outputs": [
    {
     "name": "stdout",
     "output_type": "stream",
     "text": [
      "Requirement already satisfied: statsmodels in c:\\users\\polina\\anaconda3\\lib\\site-packages (0.14.2)\n",
      "Requirement already satisfied: numpy>=1.22.3 in c:\\users\\polina\\anaconda3\\lib\\site-packages (from statsmodels) (1.26.4)\n",
      "Requirement already satisfied: scipy!=1.9.2,>=1.8 in c:\\users\\polina\\anaconda3\\lib\\site-packages (from statsmodels) (1.13.1)\n",
      "Requirement already satisfied: pandas!=2.1.0,>=1.4 in c:\\users\\polina\\anaconda3\\lib\\site-packages (from statsmodels) (2.2.2)\n",
      "Requirement already satisfied: patsy>=0.5.6 in c:\\users\\polina\\anaconda3\\lib\\site-packages (from statsmodels) (0.5.6)\n",
      "Requirement already satisfied: packaging>=21.3 in c:\\users\\polina\\anaconda3\\lib\\site-packages (from statsmodels) (24.1)\n",
      "Requirement already satisfied: python-dateutil>=2.8.2 in c:\\users\\polina\\anaconda3\\lib\\site-packages (from pandas!=2.1.0,>=1.4->statsmodels) (2.9.0.post0)\n",
      "Requirement already satisfied: pytz>=2020.1 in c:\\users\\polina\\anaconda3\\lib\\site-packages (from pandas!=2.1.0,>=1.4->statsmodels) (2024.1)\n",
      "Requirement already satisfied: tzdata>=2022.7 in c:\\users\\polina\\anaconda3\\lib\\site-packages (from pandas!=2.1.0,>=1.4->statsmodels) (2023.3)\n",
      "Requirement already satisfied: six in c:\\users\\polina\\anaconda3\\lib\\site-packages (from patsy>=0.5.6->statsmodels) (1.16.0)\n"
     ]
    }
   ],
   "source": [
    "!pip install statsmodels"
   ]
  },
  {
   "cell_type": "code",
   "execution_count": 6,
   "metadata": {
    "id": "Xevy71GpK61h"
   },
   "outputs": [],
   "source": [
    "# Посчитаем ожидаем прирост эффекта на основании выбранных изменений в конверсии от 13% к 15%\n",
    "effect_size = sms.proportion_effectsize(0.13, 0.15)\n",
    "\n",
    "# Расчет необходимого размера выборки\n",
    "required_n = round(sms.NormalIndPower().solve_power(\n",
    "    effect_size,\n",
    "    power=0.8,\n",
    "    alpha=0.05,\n",
    "    ratio=1\n",
    "))"
   ]
  },
  {
   "cell_type": "code",
   "execution_count": 7,
   "metadata": {},
   "outputs": [
    {
     "data": {
      "text/plain": [
       "4719"
      ]
     },
     "execution_count": 7,
     "metadata": {},
     "output_type": "execute_result"
    }
   ],
   "source": [
    "required_n"
   ]
  },
  {
   "cell_type": "markdown",
   "metadata": {
    "id": "OgPl7rqPK61h"
   },
   "source": [
    "Установка параметра `мощности` на $0.8$ на практике означает, что если существует реальная разница в коэффициенте конверсии между нашими проектами, предполагая, что разница является той, которую мы оценили ($13\\%$ против $15\\%$), у нас есть $80\\%$ шанс определить его как статистически значимый в нашем тесте с размером выборки, который мы рассчитали."
   ]
  },
  {
   "cell_type": "markdown",
   "metadata": {
    "id": "U5S8v4mzK61h"
   },
   "source": [
    "***\n",
    "## 2. Предобработка данных"
   ]
  },
  {
   "cell_type": "markdown",
   "metadata": {
    "id": "bImn8Y1XK61h"
   },
   "source": [
    "Теперь, когда у нас есть требуемый размер выборки, нам нужно собрать данные. Обычно на этом этапе нужно настроить эксперимент и убедиться, что собрано достаточно данных на основе необходимого размера выборки.\n",
    "\n",
    "Поскольку мы используем набор данных, который мы нашли в Интернете, для моделирования этой ситуации:\n",
    "1. Загрузим <a href='https://www.kaggle.com/zhangluyuan/ab-testing?select=ab_data.csv'> набор данных из Kaggle </a>.\n",
    "2. Считаем данные в pandas DataFrame.\n",
    "3. Проверим и очистим данные.\n",
    "4. Выберем из датасета количество точек, которое мы получили на предыдущем шаге.\n",
    "\n",
    "***Примечание**: Обычно нам не нужно выполнять шаг 4, это только ради упражнения."
   ]
  },
  {
   "cell_type": "code",
   "execution_count": 8,
   "metadata": {
    "colab": {
     "base_uri": "https://localhost:8080/",
     "height": 206
    },
    "executionInfo": {
     "elapsed": 1295,
     "status": "ok",
     "timestamp": 1698092358802,
     "user": {
      "displayName": "Дмитрий Перец",
      "userId": "01071617569948781035"
     },
     "user_tz": -180
    },
    "id": "wflEuN8eK61h",
    "outputId": "fc108ca2-79d8-4708-a1cf-c28aff9cfb86"
   },
   "outputs": [
    {
     "data": {
      "text/html": [
       "<div>\n",
       "<style scoped>\n",
       "    .dataframe tbody tr th:only-of-type {\n",
       "        vertical-align: middle;\n",
       "    }\n",
       "\n",
       "    .dataframe tbody tr th {\n",
       "        vertical-align: top;\n",
       "    }\n",
       "\n",
       "    .dataframe thead th {\n",
       "        text-align: right;\n",
       "    }\n",
       "</style>\n",
       "<table border=\"1\" class=\"dataframe\">\n",
       "  <thead>\n",
       "    <tr style=\"text-align: right;\">\n",
       "      <th></th>\n",
       "      <th>user_id</th>\n",
       "      <th>timestamp</th>\n",
       "      <th>group</th>\n",
       "      <th>landing_page</th>\n",
       "      <th>converted</th>\n",
       "    </tr>\n",
       "  </thead>\n",
       "  <tbody>\n",
       "    <tr>\n",
       "      <th>0</th>\n",
       "      <td>851104</td>\n",
       "      <td>2017-01-21 22:11:48.556739</td>\n",
       "      <td>control</td>\n",
       "      <td>old_page</td>\n",
       "      <td>0</td>\n",
       "    </tr>\n",
       "    <tr>\n",
       "      <th>1</th>\n",
       "      <td>804228</td>\n",
       "      <td>2017-01-12 08:01:45.159739</td>\n",
       "      <td>control</td>\n",
       "      <td>old_page</td>\n",
       "      <td>0</td>\n",
       "    </tr>\n",
       "    <tr>\n",
       "      <th>2</th>\n",
       "      <td>661590</td>\n",
       "      <td>2017-01-11 16:55:06.154213</td>\n",
       "      <td>treatment</td>\n",
       "      <td>new_page</td>\n",
       "      <td>0</td>\n",
       "    </tr>\n",
       "    <tr>\n",
       "      <th>3</th>\n",
       "      <td>853541</td>\n",
       "      <td>2017-01-08 18:28:03.143765</td>\n",
       "      <td>treatment</td>\n",
       "      <td>new_page</td>\n",
       "      <td>0</td>\n",
       "    </tr>\n",
       "    <tr>\n",
       "      <th>4</th>\n",
       "      <td>864975</td>\n",
       "      <td>2017-01-21 01:52:26.210827</td>\n",
       "      <td>control</td>\n",
       "      <td>old_page</td>\n",
       "      <td>1</td>\n",
       "    </tr>\n",
       "    <tr>\n",
       "      <th>5</th>\n",
       "      <td>936923</td>\n",
       "      <td>2017-01-10 15:20:49.083499</td>\n",
       "      <td>control</td>\n",
       "      <td>old_page</td>\n",
       "      <td>0</td>\n",
       "    </tr>\n",
       "    <tr>\n",
       "      <th>6</th>\n",
       "      <td>679687</td>\n",
       "      <td>2017-01-19 03:26:46.940749</td>\n",
       "      <td>treatment</td>\n",
       "      <td>new_page</td>\n",
       "      <td>1</td>\n",
       "    </tr>\n",
       "    <tr>\n",
       "      <th>7</th>\n",
       "      <td>719014</td>\n",
       "      <td>2017-01-17 01:48:29.539573</td>\n",
       "      <td>control</td>\n",
       "      <td>old_page</td>\n",
       "      <td>0</td>\n",
       "    </tr>\n",
       "    <tr>\n",
       "      <th>8</th>\n",
       "      <td>817355</td>\n",
       "      <td>2017-01-04 17:58:08.979471</td>\n",
       "      <td>treatment</td>\n",
       "      <td>new_page</td>\n",
       "      <td>1</td>\n",
       "    </tr>\n",
       "    <tr>\n",
       "      <th>9</th>\n",
       "      <td>839785</td>\n",
       "      <td>2017-01-15 18:11:06.610965</td>\n",
       "      <td>treatment</td>\n",
       "      <td>new_page</td>\n",
       "      <td>1</td>\n",
       "    </tr>\n",
       "  </tbody>\n",
       "</table>\n",
       "</div>"
      ],
      "text/plain": [
       "   user_id                   timestamp      group landing_page  converted\n",
       "0   851104  2017-01-21 22:11:48.556739    control     old_page          0\n",
       "1   804228  2017-01-12 08:01:45.159739    control     old_page          0\n",
       "2   661590  2017-01-11 16:55:06.154213  treatment     new_page          0\n",
       "3   853541  2017-01-08 18:28:03.143765  treatment     new_page          0\n",
       "4   864975  2017-01-21 01:52:26.210827    control     old_page          1\n",
       "5   936923  2017-01-10 15:20:49.083499    control     old_page          0\n",
       "6   679687  2017-01-19 03:26:46.940749  treatment     new_page          1\n",
       "7   719014  2017-01-17 01:48:29.539573    control     old_page          0\n",
       "8   817355  2017-01-04 17:58:08.979471  treatment     new_page          1\n",
       "9   839785  2017-01-15 18:11:06.610965  treatment     new_page          1"
      ]
     },
     "execution_count": 8,
     "metadata": {},
     "output_type": "execute_result"
    }
   ],
   "source": [
    "# чтение данных из csv файла\n",
    "df = pd.read_csv('ab_data.csv')\n",
    "\n",
    "# выведем первые 10 строк\n",
    "df.head(10)"
   ]
  },
  {
   "cell_type": "code",
   "execution_count": 9,
   "metadata": {
    "colab": {
     "base_uri": "https://localhost:8080/"
    },
    "executionInfo": {
     "elapsed": 276,
     "status": "ok",
     "timestamp": 1698092368356,
     "user": {
      "displayName": "Дмитрий Перец",
      "userId": "01071617569948781035"
     },
     "user_tz": -180
    },
    "id": "ZIe1VIV3K61h",
    "outputId": "3b36d114-3749-4d97-c543-8878a98ad344"
   },
   "outputs": [
    {
     "name": "stdout",
     "output_type": "stream",
     "text": [
      "<class 'pandas.core.frame.DataFrame'>\n",
      "RangeIndex: 294478 entries, 0 to 294477\n",
      "Data columns (total 5 columns):\n",
      " #   Column        Non-Null Count   Dtype \n",
      "---  ------        --------------   ----- \n",
      " 0   user_id       294478 non-null  int64 \n",
      " 1   timestamp     294478 non-null  object\n",
      " 2   group         294478 non-null  object\n",
      " 3   landing_page  294478 non-null  object\n",
      " 4   converted     294478 non-null  int64 \n",
      "dtypes: int64(2), object(3)\n",
      "memory usage: 11.2+ MB\n"
     ]
    }
   ],
   "source": [
    "# выведем информацию по датафрейму\n",
    "df.info()"
   ]
  },
  {
   "cell_type": "markdown",
   "metadata": {
    "id": "OkcyLJE_K61h"
   },
   "source": [
    "У нас **294478 строк**, каждая из которых представляет сеанс пользователя, а также **5 столбцов**:\n",
    "* `user_id` - ID пользователя каждой сессии\n",
    "* `timestamp` - времея сеанса\n",
    "* `group` - группа пользователя для этого сеанса {`control`, `treatment`}\n",
    "* `landing_page` - какой дизайн каждый пользователь видел в этом сеансе {` old_page`, `new_page`}\n",
    "* `convert` - завершился ли сеанс конверсией или нет (двоичный,` 0` = без конверсии, `1` = с конверсией)\n",
    "\n",
    "Будем использовать для анализа столбцы «group» и «convert».\n",
    "\n",
    "Необходимо проверить, что нет пользователей, которые были выбраны несколько раз и что не было пользователей, которые видели не свою версию сайта (т.е. `целевая` только `new`, `контрольная` только `old`)"
   ]
  },
  {
   "cell_type": "markdown",
   "metadata": {
    "id": "2Ln5zR9dK61i"
   },
   "source": [
    "Видим, что пропусков в данных нет и можно далее анализировать таблицу"
   ]
  },
  {
   "cell_type": "markdown",
   "metadata": {
    "id": "Md-_1hF8K61i"
   },
   "source": [
    "> # Задание\n",
    ">\n",
    "> При помощи pd.crosstab проверить, нет ли подглядываний в таблице. Т.е. не видели ли пользователи из целевой группы старую версию и из контрольной новую."
   ]
  },
  {
   "cell_type": "code",
   "execution_count": 10,
   "metadata": {
    "id": "jbq1ryeyK61i"
   },
   "outputs": [
    {
     "data": {
      "text/html": [
       "<div>\n",
       "<style scoped>\n",
       "    .dataframe tbody tr th:only-of-type {\n",
       "        vertical-align: middle;\n",
       "    }\n",
       "\n",
       "    .dataframe tbody tr th {\n",
       "        vertical-align: top;\n",
       "    }\n",
       "\n",
       "    .dataframe thead th {\n",
       "        text-align: right;\n",
       "    }\n",
       "</style>\n",
       "<table border=\"1\" class=\"dataframe\">\n",
       "  <thead>\n",
       "    <tr style=\"text-align: right;\">\n",
       "      <th>group</th>\n",
       "      <th>control</th>\n",
       "      <th>treatment</th>\n",
       "    </tr>\n",
       "    <tr>\n",
       "      <th>landing_page</th>\n",
       "      <th></th>\n",
       "      <th></th>\n",
       "    </tr>\n",
       "  </thead>\n",
       "  <tbody>\n",
       "    <tr>\n",
       "      <th>new_page</th>\n",
       "      <td>1928</td>\n",
       "      <td>145311</td>\n",
       "    </tr>\n",
       "    <tr>\n",
       "      <th>old_page</th>\n",
       "      <td>145274</td>\n",
       "      <td>1965</td>\n",
       "    </tr>\n",
       "  </tbody>\n",
       "</table>\n",
       "</div>"
      ],
      "text/plain": [
       "group         control  treatment\n",
       "landing_page                    \n",
       "new_page         1928     145311\n",
       "old_page       145274       1965"
      ]
     },
     "execution_count": 10,
     "metadata": {},
     "output_type": "execute_result"
    }
   ],
   "source": [
    "# Проверим, не было ли \"подглядываний\"\n",
    "# type your code here\n",
    "pd.crosstab(df['landing_page'], df['group'])"
   ]
  },
  {
   "cell_type": "markdown",
   "metadata": {
    "id": "OhpcMqTxK61i"
   },
   "source": [
    "> # Задание\n",
    ">\n",
    "> Если подглядывания есть, то необходимо удалить такие записи"
   ]
  },
  {
   "cell_type": "code",
   "execution_count": 11,
   "metadata": {
    "id": "yXyJjD8wK61i"
   },
   "outputs": [
    {
     "data": {
      "text/plain": [
       "(290585, 5)"
      ]
     },
     "execution_count": 11,
     "metadata": {},
     "output_type": "execute_result"
    }
   ],
   "source": [
    "# Удалить \"подглядывания\"\n",
    "# type your code here\n",
    "df = df.loc[(df[\"group\"] == \"control\") & (df[\"landing_page\"] == \"old_page\") | (df[\"group\"] == \"treatment\") & (df[\"landing_page\"] == \"new_page\")]\n",
    "df.shape"
   ]
  },
  {
   "cell_type": "code",
   "execution_count": 12,
   "metadata": {
    "id": "pcnSQRkgK61i"
   },
   "outputs": [
    {
     "data": {
      "text/html": [
       "<div>\n",
       "<style scoped>\n",
       "    .dataframe tbody tr th:only-of-type {\n",
       "        vertical-align: middle;\n",
       "    }\n",
       "\n",
       "    .dataframe tbody tr th {\n",
       "        vertical-align: top;\n",
       "    }\n",
       "\n",
       "    .dataframe thead th {\n",
       "        text-align: right;\n",
       "    }\n",
       "</style>\n",
       "<table border=\"1\" class=\"dataframe\">\n",
       "  <thead>\n",
       "    <tr style=\"text-align: right;\">\n",
       "      <th>group</th>\n",
       "      <th>control</th>\n",
       "      <th>treatment</th>\n",
       "    </tr>\n",
       "    <tr>\n",
       "      <th>landing_page</th>\n",
       "      <th></th>\n",
       "      <th></th>\n",
       "    </tr>\n",
       "  </thead>\n",
       "  <tbody>\n",
       "    <tr>\n",
       "      <th>new_page</th>\n",
       "      <td>0</td>\n",
       "      <td>145311</td>\n",
       "    </tr>\n",
       "    <tr>\n",
       "      <th>old_page</th>\n",
       "      <td>145274</td>\n",
       "      <td>0</td>\n",
       "    </tr>\n",
       "  </tbody>\n",
       "</table>\n",
       "</div>"
      ],
      "text/plain": [
       "group         control  treatment\n",
       "landing_page                    \n",
       "new_page            0     145311\n",
       "old_page       145274          0"
      ]
     },
     "execution_count": 12,
     "metadata": {},
     "output_type": "execute_result"
    }
   ],
   "source": [
    "# При помощи pd.crosstab убедиться, что подглядываний нет\n",
    "# type your code here\n",
    "pd.crosstab(df['landing_page'], df['group'])"
   ]
  },
  {
   "cell_type": "markdown",
   "metadata": {
    "id": "0NXBwsSPK61i"
   },
   "source": [
    "> # Задание\n",
    ">\n",
    "> Проверить, есть ли пользователи, которые встречаются несколько раз в выборке"
   ]
  },
  {
   "cell_type": "code",
   "execution_count": 13,
   "metadata": {
    "id": "UOfpo5wQK61i"
   },
   "outputs": [
    {
     "data": {
      "text/plain": [
       "0         False\n",
       "1         False\n",
       "2         False\n",
       "3         False\n",
       "4         False\n",
       "          ...  \n",
       "294473    False\n",
       "294474    False\n",
       "294475    False\n",
       "294476    False\n",
       "294477    False\n",
       "Length: 290585, dtype: bool"
      ]
     },
     "execution_count": 13,
     "metadata": {},
     "output_type": "execute_result"
    }
   ],
   "source": [
    "# Проверить, есть ли пользователи, которые встречаются более 1 раза\n",
    "# type your code here\n",
    "df.duplicated(subset=['user_id'])"
   ]
  },
  {
   "cell_type": "markdown",
   "metadata": {
    "id": "W2y6y4EbK61i"
   },
   "source": [
    "> # Задание\n",
    ">\n",
    "> Если есть пользователи, которые появляются более одного раза. то необходимо удалить их из данных, чтобы избежать дублирования в выборке."
   ]
  },
  {
   "cell_type": "code",
   "execution_count": 14,
   "metadata": {
    "id": "sIuCoTQmK61i"
   },
   "outputs": [
    {
     "data": {
      "text/html": [
       "<div>\n",
       "<style scoped>\n",
       "    .dataframe tbody tr th:only-of-type {\n",
       "        vertical-align: middle;\n",
       "    }\n",
       "\n",
       "    .dataframe tbody tr th {\n",
       "        vertical-align: top;\n",
       "    }\n",
       "\n",
       "    .dataframe thead th {\n",
       "        text-align: right;\n",
       "    }\n",
       "</style>\n",
       "<table border=\"1\" class=\"dataframe\">\n",
       "  <thead>\n",
       "    <tr style=\"text-align: right;\">\n",
       "      <th></th>\n",
       "      <th>user_id</th>\n",
       "      <th>timestamp</th>\n",
       "      <th>group</th>\n",
       "      <th>landing_page</th>\n",
       "      <th>converted</th>\n",
       "    </tr>\n",
       "  </thead>\n",
       "  <tbody>\n",
       "    <tr>\n",
       "      <th>0</th>\n",
       "      <td>851104</td>\n",
       "      <td>2017-01-21 22:11:48.556739</td>\n",
       "      <td>control</td>\n",
       "      <td>old_page</td>\n",
       "      <td>0</td>\n",
       "    </tr>\n",
       "    <tr>\n",
       "      <th>1</th>\n",
       "      <td>804228</td>\n",
       "      <td>2017-01-12 08:01:45.159739</td>\n",
       "      <td>control</td>\n",
       "      <td>old_page</td>\n",
       "      <td>0</td>\n",
       "    </tr>\n",
       "    <tr>\n",
       "      <th>2</th>\n",
       "      <td>661590</td>\n",
       "      <td>2017-01-11 16:55:06.154213</td>\n",
       "      <td>treatment</td>\n",
       "      <td>new_page</td>\n",
       "      <td>0</td>\n",
       "    </tr>\n",
       "    <tr>\n",
       "      <th>3</th>\n",
       "      <td>853541</td>\n",
       "      <td>2017-01-08 18:28:03.143765</td>\n",
       "      <td>treatment</td>\n",
       "      <td>new_page</td>\n",
       "      <td>0</td>\n",
       "    </tr>\n",
       "    <tr>\n",
       "      <th>4</th>\n",
       "      <td>864975</td>\n",
       "      <td>2017-01-21 01:52:26.210827</td>\n",
       "      <td>control</td>\n",
       "      <td>old_page</td>\n",
       "      <td>1</td>\n",
       "    </tr>\n",
       "    <tr>\n",
       "      <th>...</th>\n",
       "      <td>...</td>\n",
       "      <td>...</td>\n",
       "      <td>...</td>\n",
       "      <td>...</td>\n",
       "      <td>...</td>\n",
       "    </tr>\n",
       "    <tr>\n",
       "      <th>294473</th>\n",
       "      <td>751197</td>\n",
       "      <td>2017-01-03 22:28:38.630509</td>\n",
       "      <td>control</td>\n",
       "      <td>old_page</td>\n",
       "      <td>0</td>\n",
       "    </tr>\n",
       "    <tr>\n",
       "      <th>294474</th>\n",
       "      <td>945152</td>\n",
       "      <td>2017-01-12 00:51:57.078372</td>\n",
       "      <td>control</td>\n",
       "      <td>old_page</td>\n",
       "      <td>0</td>\n",
       "    </tr>\n",
       "    <tr>\n",
       "      <th>294475</th>\n",
       "      <td>734608</td>\n",
       "      <td>2017-01-22 11:45:03.439544</td>\n",
       "      <td>control</td>\n",
       "      <td>old_page</td>\n",
       "      <td>0</td>\n",
       "    </tr>\n",
       "    <tr>\n",
       "      <th>294476</th>\n",
       "      <td>697314</td>\n",
       "      <td>2017-01-15 01:20:28.957438</td>\n",
       "      <td>control</td>\n",
       "      <td>old_page</td>\n",
       "      <td>0</td>\n",
       "    </tr>\n",
       "    <tr>\n",
       "      <th>294477</th>\n",
       "      <td>715931</td>\n",
       "      <td>2017-01-16 12:40:24.467417</td>\n",
       "      <td>treatment</td>\n",
       "      <td>new_page</td>\n",
       "      <td>0</td>\n",
       "    </tr>\n",
       "  </tbody>\n",
       "</table>\n",
       "<p>290584 rows × 5 columns</p>\n",
       "</div>"
      ],
      "text/plain": [
       "        user_id                   timestamp      group landing_page  converted\n",
       "0        851104  2017-01-21 22:11:48.556739    control     old_page          0\n",
       "1        804228  2017-01-12 08:01:45.159739    control     old_page          0\n",
       "2        661590  2017-01-11 16:55:06.154213  treatment     new_page          0\n",
       "3        853541  2017-01-08 18:28:03.143765  treatment     new_page          0\n",
       "4        864975  2017-01-21 01:52:26.210827    control     old_page          1\n",
       "...         ...                         ...        ...          ...        ...\n",
       "294473   751197  2017-01-03 22:28:38.630509    control     old_page          0\n",
       "294474   945152  2017-01-12 00:51:57.078372    control     old_page          0\n",
       "294475   734608  2017-01-22 11:45:03.439544    control     old_page          0\n",
       "294476   697314  2017-01-15 01:20:28.957438    control     old_page          0\n",
       "294477   715931  2017-01-16 12:40:24.467417  treatment     new_page          0\n",
       "\n",
       "[290584 rows x 5 columns]"
      ]
     },
     "execution_count": 14,
     "metadata": {},
     "output_type": "execute_result"
    }
   ],
   "source": [
    "# Если есть, то удалить пользователей, которые встречаются более 1 раза\n",
    "# type your code here\n",
    "df.drop_duplicates(subset=['user_id'])"
   ]
  },
  {
   "cell_type": "code",
   "execution_count": 15,
   "metadata": {},
   "outputs": [
    {
     "name": "stdout",
     "output_type": "stream",
     "text": [
      "Удаленных строк: 1\n"
     ]
    }
   ],
   "source": [
    "print('Удаленных строк:', len(df['user_id']) - len(df['user_id'].drop_duplicates()))"
   ]
  },
  {
   "cell_type": "markdown",
   "metadata": {
    "id": "WiOzBbPmK61i"
   },
   "source": [
    "### Выборка\n",
    "\n",
    "Теперь, когда данные чистые, мы можем выбрать `required_n` записей для каждой из групп. Для этого мы можем использовать метод pandas `DataFrame.sample()`, который выберет случайную выборку. Зафиксируем при этом `random_state`, чтобы получать одни и те же результаты."
   ]
  },
  {
   "cell_type": "code",
   "execution_count": 16,
   "metadata": {
    "id": "-jqHUH2IK61j"
   },
   "outputs": [],
   "source": [
    "# Сформируем контрольную группу\n",
    "control_sample = df[df['group'] == 'control'].sample(n=required_n, random_state=22)\n",
    "\n",
    "# Сформируйте целевую группу такого же размера и с тем же random_state\n",
    "treatment_sample = df[df['group'] == 'treatment'].sample(n=required_n, random_state=22)\n",
    "\n",
    "# Объединим полученные наборы данных\n",
    "ab_test = pd.concat([control_sample, treatment_sample], axis=0)\n",
    "ab_test.reset_index(drop=True, inplace=True)"
   ]
  },
  {
   "cell_type": "markdown",
   "metadata": {
    "id": "bHDtUSOFK61j"
   },
   "source": [
    "> # Задание\n",
    ">\n",
    "> Проверьте, что в ab_test все в порядке. Нет пустых записей, дублей, подглядываний, размеры соответствуют `required_n`"
   ]
  },
  {
   "cell_type": "code",
   "execution_count": 17,
   "metadata": {
    "id": "-JLTCfhkK61j"
   },
   "outputs": [
    {
     "name": "stdout",
     "output_type": "stream",
     "text": [
      "Наличие пустых записей: False\n"
     ]
    }
   ],
   "source": [
    "# Все ли ок с ab_test?\n",
    "print('Наличие пустых записей:', ab_test.empty)"
   ]
  },
  {
   "cell_type": "code",
   "execution_count": 18,
   "metadata": {},
   "outputs": [
    {
     "name": "stdout",
     "output_type": "stream",
     "text": [
      "Количество дубликатов: 0\n"
     ]
    }
   ],
   "source": [
    "print('Количество дубликатов:', len(ab_test)- len(ab_test.drop_duplicates()))"
   ]
  },
  {
   "cell_type": "code",
   "execution_count": 19,
   "metadata": {},
   "outputs": [
    {
     "name": "stdout",
     "output_type": "stream",
     "text": [
      "Количество \"подглядываний\": 0\n"
     ]
    }
   ],
   "source": [
    "print('Количество \"подглядываний\":', len(ab_test[(ab_test[\"group\"] == \"control\") & (ab_test[\"landing_page\"] == \"new_page\")] + \n",
    "         ab_test[(ab_test[\"group\"] == \"treatment\") & (ab_test[\"landing_page\"] == \"old_page\")].count()))"
   ]
  },
  {
   "cell_type": "code",
   "execution_count": 20,
   "metadata": {},
   "outputs": [
    {
     "name": "stdout",
     "output_type": "stream",
     "text": [
      "Количество строк (9438) соответсвует значению 2*required_n (9438)\n"
     ]
    }
   ],
   "source": [
    "print(f'Количество строк ({ab_test.shape[0]}) соответсвует значению 2*required_n ({required_n * 2})') "
   ]
  },
  {
   "cell_type": "markdown",
   "metadata": {
    "id": "pHITWTtYK61j"
   },
   "source": [
    "***\n",
    "## 3. Визуализация результатов"
   ]
  },
  {
   "cell_type": "markdown",
   "metadata": {
    "id": "-kvksyNkK61j"
   },
   "source": [
    "> # Задание\n",
    ">\n",
    "> Вычислите **основные статистики**, чтобы получить представление о том, как выглядят наши данные. Среднее, стандартное отклонение и стандартную ошибку ($\\frac{std}{\\sqrt(n)}$)"
   ]
  },
  {
   "cell_type": "code",
   "execution_count": 21,
   "metadata": {
    "id": "ldIaSbU2K61j"
   },
   "outputs": [],
   "source": [
    "conversion_rates = ab_test.groupby('group')['converted']"
   ]
  },
  {
   "cell_type": "code",
   "execution_count": 22,
   "metadata": {},
   "outputs": [
    {
     "data": {
      "text/plain": [
       "group\n",
       "control      0.120364\n",
       "treatment    0.119517\n",
       "Name: converted, dtype: float64"
      ]
     },
     "execution_count": 22,
     "metadata": {},
     "output_type": "execute_result"
    }
   ],
   "source": [
    "conversion_rates.mean()  # среднее"
   ]
  },
  {
   "cell_type": "code",
   "execution_count": 23,
   "metadata": {},
   "outputs": [
    {
     "data": {
      "text/plain": [
       "group\n",
       "control      0.325422\n",
       "treatment    0.324430\n",
       "Name: converted, dtype: float64"
      ]
     },
     "execution_count": 23,
     "metadata": {},
     "output_type": "execute_result"
    }
   ],
   "source": [
    "conversion_rates.std()  # стандартное отклонение"
   ]
  },
  {
   "cell_type": "code",
   "execution_count": 24,
   "metadata": {},
   "outputs": [
    {
     "data": {
      "text/plain": [
       "group\n",
       "control      0.004737\n",
       "treatment    0.004723\n",
       "Name: converted, dtype: float64"
      ]
     },
     "execution_count": 24,
     "metadata": {},
     "output_type": "execute_result"
    }
   ],
   "source": [
    "conversion_rates.sem()  #стандартная ошибка"
   ]
  },
  {
   "cell_type": "markdown",
   "metadata": {
    "id": "pPUA-NsOK61m"
   },
   "source": [
    "> # Вопрос\n",
    ">\n",
    "> Похожи ли поведения клиентов?"
   ]
  },
  {
   "cell_type": "code",
   "execution_count": 25,
   "metadata": {
    "id": "_P893k1yK61m"
   },
   "outputs": [
    {
     "data": {
      "image/png": "[encoded data removed]",
      "text/plain": [
       "<Figure size 800x600 with 1 Axes>"
      ]
     },
     "metadata": {},
     "output_type": "display_data"
    }
   ],
   "source": [
    "plt.figure(figsize=(8,6))\n",
    "\n",
    "sns.barplot(x=ab_test['group'], y=ab_test['converted'], errorbar=('ci', False))\n",
    "\n",
    "plt.ylim(0, 0.17)\n",
    "plt.title('Conversion rate by group', pad=20)\n",
    "plt.xlabel('Group', labelpad=15)\n",
    "plt.ylabel('Converted (proportion)', labelpad=15)\n",
    "\n",
    "plt.show()"
   ]
  },
  {
   "cell_type": "markdown",
   "metadata": {
    "id": "Z-mIYKKkK61m"
   },
   "source": [
    "А теперь давайте ответим на вопрос **Является ли разница статистически значимой?**"
   ]
  },
  {
   "cell_type": "markdown",
   "metadata": {
    "id": "NOBCff4vK61m"
   },
   "source": [
    "***\n",
    "## 4. Проверка гипотезы"
   ]
  },
  {
   "cell_type": "markdown",
   "metadata": {
    "id": "_2wTq_AjK61m"
   },
   "source": [
    "Поскольку у нас большая выборка, мы можем использовать нормальное приближение для вычисления нашего $p$-значения (т.е. z-тест).\n",
    "\n",
    "Мы можем использовать модуль `statsmodels.stats.proportion`, чтобы получить $p$-значение и доверительные интервалы:"
   ]
  },
  {
   "cell_type": "code",
   "execution_count": 26,
   "metadata": {
    "id": "HjpvvcSpK61m"
   },
   "outputs": [],
   "source": [
    "control_results = ab_test[ab_test['group'] == 'control']['converted']\n",
    "treatment_results = ab_test[ab_test['group'] == 'treatment']['converted']"
   ]
  },
  {
   "cell_type": "code",
   "execution_count": 27,
   "metadata": {},
   "outputs": [],
   "source": [
    "n_con = len(control_results) \n",
    "n_treat = len(treatment_results)"
   ]
  },
  {
   "cell_type": "markdown",
   "metadata": {
    "id": "Oyf_iSSGK61m",
    "papermill": {
     "duration": 0.027679,
     "end_time": "2021-07-26T13:20:46.794207",
     "exception": false,
     "start_time": "2021-07-26T13:20:46.766528",
     "status": "completed"
    },
    "tags": []
   },
   "source": [
    "Пусть $X$ - переменная, описывающая контрольную группу, а $Y$ - переменная, описывающая целевую группу. Имеем: $X \\sim Bin(n,p_1)$ и $Y \\sim Bin(m,p_2)$. Гипотезы:\n",
    "\n",
    "\\\\[ \\begin{array}{ll} H_0 :& p_1 = p_2 \\\\\n",
    "H_1 :& p_1 \\neq p_2\\\\ \\end{array} \\\\]\n",
    "\n",
    "\n",
    "Целью нашего теста является сравнение двух конверсий. Так как наши переменные биномиальные, статистика имеет следующий вид:\n",
    "\\\\[ Z = \\frac{ \\hat{Y} - \\hat{X} }{\\sqrt{P(1-P)( \\frac{1}{n} + \\frac{1}{m})}} \\\\]\n",
    "\\\\[ \\begin{array}{ll} \\hat{X} & \\mbox{эмпирическое среднее контрольной группы}\\\\\n",
    "\\hat{Y} & \\mbox{эмпирическое среднее целевой группы}\\\\\n",
    "n & \\mbox{размер контрольной группы} \\\\\n",
    "m & \\mbox{размер целевой группы} \\\\\n",
    "P = \\frac{n\\hat{X} + m\\hat{Y}}{n+m} & \\mbox{}\n",
    "\\end{array} \\\\]\n",
    "При верной $H_0$ имеем: $Z \\sim \\mathit{N}(0,1)$.\n",
    "\n",
    "Рассчитаем значения z статистики и $p$-значение с помощью библиотеки `statsmodels`:"
   ]
  },
  {
   "cell_type": "code",
   "execution_count": 28,
   "metadata": {
    "id": "LdyFe0zzK61n"
   },
   "outputs": [
    {
     "name": "stdout",
     "output_type": "stream",
     "text": [
      "z statistic: 0.13\n",
      "p-value: 0.899\n",
      "confidence interval 95% for control group: [0.111, 0.130]\n",
      "confidence interval 95% for treatment group: [0.110, 0.129]\n"
     ]
    }
   ],
   "source": [
    "successes = [control_results.sum(), treatment_results.sum()]\n",
    "nobs = [n_con, n_treat]\n",
    "\n",
    "z_stat, pval = proportions_ztest(successes, nobs=nobs)\n",
    "(lower_con, lower_treat), (upper_con, upper_treat) = proportion_confint(successes, nobs=nobs, alpha=0.05)\n",
    "\n",
    "print(f'z statistic: {z_stat:.2f}')\n",
    "print(f'p-value: {pval:.3f}')\n",
    "print(f'confidence interval 95% for control group: [{lower_con:.3f}, {upper_con:.3f}]')\n",
    "print(f'confidence interval 95% for treatment group: [{lower_treat:.3f}, {upper_treat:.3f}]')"
   ]
  }
 ],
 "metadata": {
  "colab": {
   "provenance": []
  },
  "kernelspec": {
   "display_name": "Python 3 (ipykernel)",
   "language": "python",
   "name": "python3"
  },
  "language_info": {
   "codemirror_mode": {
    "name": "ipython",
    "version": 3
   },
   "file_extension": ".py",
   "mimetype": "text/x-python",
   "name": "python",
   "nbconvert_exporter": "python",
   "pygments_lexer": "ipython3",
   "version": "3.12.7"
  }
 },
 "nbformat": 4,
 "nbformat_minor": 4
}
